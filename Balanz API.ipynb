{
 "cells": [
  {
   "cell_type": "code",
   "execution_count": null,
   "id": "2d431376",
   "metadata": {},
   "outputs": [],
   "source": [
    "import requests\n",
    "\n",
    "username = 'YOUR_USERNAME'\n",
    "password = 'YOUR_PASSWORD'\n",
    "\n",
    "headers = {\n",
    "    \"Content-Type\": \"application/json\"\n",
    "}\n",
    "\n",
    "# 1. GET NONCE\n",
    "init_payload = {\n",
    "    \"user\": username\n",
    "}\n",
    "\n",
    "init_resp = requests.post(\n",
    "    \"https://clientes.balanz.com/api/v1/auth/init?avoidAuthRedirect=true\",\n",
    "    json=init_payload,\n",
    "    headers=headers\n",
    ")\n",
    "\n",
    "if not init_resp.ok:\n",
    "    print(\"Failed to init:\", init_resp.text)\n",
    "    exit()\n",
    "\n",
    "nonce = init_resp.json().get(\"nonce\")\n",
    "if not nonce:\n",
    "    print(\"Nonce not found in response:\", init_resp.text)\n",
    "    exit()\n",
    "print(\"Nonce:\", nonce)"
   ]
  }
 ],
 "metadata": {
  "language_info": {
   "name": "python"
  }
 },
 "nbformat": 4,
 "nbformat_minor": 5
}
