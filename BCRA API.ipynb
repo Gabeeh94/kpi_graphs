{
 "cells": [
  {
   "cell_type": "code",
   "execution_count": null,
   "id": "e6351524",
   "metadata": {},
   "outputs": [],
   "source": [
    "# Importing libraries\n",
    "\n",
    "import requests\n",
    "from datetime import datetime, timedelta, date\n",
    "from dateutil.relativedelta import relativedelta\n",
    "import matplotlib.pyplot as plt\n",
    "from matplotlib.ticker import FuncFormatter \n",
    "\n",
    "import pandas as pd\n",
    "from io import BytesIO\n",
    "from io import StringIO\n",
    "from bs4 import BeautifulSoup\n",
    "from IPython.display import display, HTML"
   ]
  },
  {
   "cell_type": "code",
   "execution_count": null,
   "id": "2beaad72",
   "metadata": {},
   "outputs": [],
   "source": [
    "# Downloading variable list\n",
    "\n",
    "url = \"https://api.bcra.gob.ar/estadisticas/v3.0/monetarias\"\n",
    "\n",
    "\n",
    "response = requests.get(url, verify = 'bcra-gob-ar.pem') \n",
    "if response.status_code == 200:\n",
    "\n",
    "    data = response.json()\n",
    "\n",
    "    results = data['results']\n",
    "\n",
    "    df_results = pd.DataFrame(results)\n",
    "\n",
    "else:\n",
    "    print(f\"Request failed with status code {response.status_code}\")\n",
    "    print(response.text)\n",
    "df_results.to_excel('Principales_Variables.xlsx')"
   ]
  },
  {
   "cell_type": "code",
   "execution_count": null,
   "id": "50ceac5d",
   "metadata": {},
   "outputs": [],
   "source": [
    "#BCRA API REQUESTS\n",
    "\n",
    "# Define BCRA API request function\n",
    "\n",
    "def request_bcra(id_variable,start_date,end_date):\n",
    "    \n",
    "    base_url = \"https://api.bcra.gob.ar/estadisticas/v3.0/monetarias\"\n",
    "\n",
    "    url = f\"{base_url}/{id_variable}?desde={start_date}&hasta={end_date}\"\n",
    "\n",
    "    response = requests.get(url, verify = 'bcra-gob-ar.pem') \n",
    "\n",
    "    if response.status_code == 200:\n",
    "\n",
    "        data = response.json()\n",
    "\n",
    "        results = data['results']\n",
    "\n",
    "        df_results = pd.DataFrame(results)\n",
    "        \n",
    "        return df_results\n",
    "\n",
    "    else:\n",
    "        print(f\"Request failed with status code {response.status_code}\")\n",
    "        print(response.text)\n",
    "\n",
    "\n",
    "def request_money_data(id_variable, start_date, end_date):\n",
    "\n",
    "    # Requesting the base money data from the BCRA API and cleaning the resulting dataframe\n",
    "    df = request_bcra(id_variable,start_date,end_date)\n",
    "\n",
    "    df.drop('idVariable',axis=1,inplace=True)\n",
    "\n",
    "    df['fecha'] = pd.to_datetime(df['fecha'])\n",
    "\n",
    "    df.set_index('fecha', inplace=True)\n",
    "\n",
    "    return df"
   ]
  },
  {
   "cell_type": "code",
   "execution_count": null,
   "id": "40f9e12d",
   "metadata": {},
   "outputs": [],
   "source": [
    "badlar = request_money_data(7, date(2023, 11, 1), date(2025, 9, 1))\n",
    "\n",
    "badlar['valor'] = badlar['valor']/100\n",
    "\n",
    "badlar.to_excel('badlar.xlsx')"
   ]
  }
 ],
 "metadata": {
  "language_info": {
   "name": "python"
  }
 },
 "nbformat": 4,
 "nbformat_minor": 5
}
